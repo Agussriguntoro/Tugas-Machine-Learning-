{
 "cells": [
  {
   "cell_type": "code",
   "execution_count": 8,
   "metadata": {},
   "outputs": [
    {
     "name": "stdout",
     "output_type": "stream",
     "text": [
      "20\n"
     ]
    }
   ],
   "source": [
    "# Test Coba \n",
    "\n",
    "a = 10\n",
    "b = 4\n",
    "c = 2\n",
    "\n",
    "hasil = a *(b - c)\n",
    "print(hasil)"
   ]
  },
  {
   "cell_type": "code",
   "execution_count": 3,
   "metadata": {},
   "outputs": [
    {
     "name": "stdout",
     "output_type": "stream",
     "text": [
      "Volume kubus adalah: 3375\n"
     ]
    }
   ],
   "source": [
    "# Program Menghitung Volume Kubus (dengan ukuran yang sudah diketahui)\n",
    "sisi = 15 # contoh ukuran sisi kubus\n",
    "\n",
    "volume = sisi ** 3\n",
    "print(\"Volume kubus adalah:\", volume)"
   ]
  }
 ],
 "metadata": {
  "kernelspec": {
   "display_name": "Python 3",
   "language": "python",
   "name": "python3"
  },
  "language_info": {
   "codemirror_mode": {
    "name": "ipython",
    "version": 3
   },
   "file_extension": ".py",
   "mimetype": "text/x-python",
   "name": "python",
   "nbconvert_exporter": "python",
   "pygments_lexer": "ipython3",
   "version": "3.12.0"
  }
 },
 "nbformat": 4,
 "nbformat_minor": 2
}
